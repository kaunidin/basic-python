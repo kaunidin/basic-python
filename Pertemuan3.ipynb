{
 "cells": [
  {
   "cell_type": "markdown",
   "metadata": {},
   "source": [
    "## Break"
   ]
  },
  {
   "cell_type": "code",
   "execution_count": 1,
   "metadata": {},
   "outputs": [
    {
     "name": "stdout",
     "output_type": "stream",
     "text": [
      "1\n",
      "2\n",
      "3\n",
      "4\n",
      "5\n",
      "6\n",
      "7\n",
      "8\n",
      "9\n",
      "Angka 9 ditemukan\n"
     ]
    }
   ],
   "source": [
    "number = [1, 2, 3, 4, 5, 6, 7, 8, 9, 10]\n",
    "for num in number:\n",
    "    print (num)\n",
    "    if num == 9:\n",
    "        print (\"Angka 9 ditemukan\")\n",
    "        break"
   ]
  },
  {
   "cell_type": "markdown",
   "metadata": {},
   "source": [
    "## Continue"
   ]
  },
  {
   "cell_type": "code",
   "execution_count": 6,
   "metadata": {},
   "outputs": [
    {
     "name": "stdout",
     "output_type": "stream",
     "text": [
      "1\n",
      "2\n",
      "3\n",
      "Ada bilangn yang habis dibagi 3\n",
      "4\n",
      "5\n",
      "6\n",
      "Ada bilangn yang habis dibagi 3\n",
      "7\n",
      "8\n",
      "9\n",
      "Ada bilangn yang habis dibagi 3\n",
      "10\n"
     ]
    }
   ],
   "source": [
    "number_2 = [1, 2, 3, 4, 5, 6, 7, 8, 9, 10]\n",
    "for num_2 in number_2:\n",
    "    print (num_2)\n",
    "    if num_2 % 3 == 0: #kalo ketemu angka yang habis dibagi 3\n",
    "        print(\"Ada bilangn yang habis dibagi 3\")\n",
    "        continue\n",
    "        print (num_2)"
   ]
  },
  {
   "cell_type": "markdown",
   "metadata": {},
   "source": [
    "## Pass"
   ]
  },
  {
   "cell_type": "code",
   "execution_count": 8,
   "metadata": {},
   "outputs": [],
   "source": [
    "for x in range (1, 15):\n",
    "    pass\n",
    "if 9 < 10:\n",
    "    pass"
   ]
  },
  {
   "cell_type": "markdown",
   "metadata": {},
   "source": [
    "## Function"
   ]
  },
  {
   "cell_type": "code",
   "execution_count": 9,
   "metadata": {},
   "outputs": [
    {
     "name": "stdout",
     "output_type": "stream",
     "text": [
      "Halo selamat siang\n",
      "Halo selamat siang\n"
     ]
    }
   ],
   "source": [
    "#Mendefinisikan function\n",
    "def sapa():\n",
    "    print (\"Halo selamat siang\")\n",
    "sapa()\n",
    "sapa()"
   ]
  },
  {
   "cell_type": "code",
   "execution_count": 12,
   "metadata": {},
   "outputs": [
    {
     "name": "stdout",
     "output_type": "stream",
     "text": [
      "Hai Dina, pagi !\n"
     ]
    }
   ],
   "source": [
    "#Argumen dan Parameter\n",
    "def greet (nama, waktu):\n",
    "    print (\"Hai\", nama, waktu, \"!\")\n",
    "greet(\"Dina,\", \"pagi\")"
   ]
  },
  {
   "cell_type": "code",
   "execution_count": 14,
   "metadata": {},
   "outputs": [
    {
     "name": "stdout",
     "output_type": "stream",
     "text": [
      "10\n",
      "8\n"
     ]
    }
   ],
   "source": [
    "def jumlah (x, y):\n",
    "    m = x * y\n",
    "    print (m)\n",
    "jumlah (5, 2)\n",
    "jumlah (2, 4)"
   ]
  },
  {
   "cell_type": "code",
   "execution_count": 15,
   "metadata": {},
   "outputs": [],
   "source": [
    "def fungsi_a ():\n",
    "    x = 7 + 3\n",
    "fungsi_a ()"
   ]
  },
  {
   "cell_type": "code",
   "execution_count": 17,
   "metadata": {},
   "outputs": [
    {
     "data": {
      "text/plain": [
       "10"
      ]
     },
     "execution_count": 17,
     "metadata": {},
     "output_type": "execute_result"
    }
   ],
   "source": [
    "def fungsi_b ():\n",
    "    return 7 + 3\n",
    "fungsi_b ()"
   ]
  },
  {
   "cell_type": "code",
   "execution_count": 22,
   "metadata": {},
   "outputs": [
    {
     "name": "stdout",
     "output_type": "stream",
     "text": [
      "Masukkan angka: 3\n"
     ]
    },
    {
     "data": {
      "text/plain": [
       "30"
      ]
     },
     "execution_count": 22,
     "metadata": {},
     "output_type": "execute_result"
    }
   ],
   "source": [
    "nomor = int(input(\"Masukkan angka: \"))\n",
    "def angka (x):\n",
    "    if x <= 5:\n",
    "        return x * 10\n",
    "    elif x >= 5 & x <= 10:\n",
    "        return x * 100\n",
    "    else:\n",
    "        return x * 1000\n",
    "angka (3)"
   ]
  },
  {
   "cell_type": "code",
   "execution_count": 17,
   "metadata": {},
   "outputs": [
    {
     "name": "stdout",
     "output_type": "stream",
     "text": [
      "Nama: Dina usia: 22\n"
     ]
    }
   ],
   "source": [
    "def siswa (nama, umur):\n",
    "    print (\"Nama:\", nama, \"usia:\", umur)\n",
    "siswa (\"Dina\", \"22\")"
   ]
  },
  {
   "cell_type": "code",
   "execution_count": 15,
   "metadata": {},
   "outputs": [
    {
     "name": "stdout",
     "output_type": "stream",
     "text": [
      "Nama:  Dina 20\n"
     ]
    }
   ],
   "source": [
    "#default parameter\n",
    "def mahasiswa (namamahasiswa, usia = \"20\"):\n",
    "    print (\"Nama: \", namamahasiswa, usia)\n",
    "mahasiswa (\"Dina\")"
   ]
  },
  {
   "cell_type": "code",
   "execution_count": 25,
   "metadata": {},
   "outputs": [
    {
     "name": "stdout",
     "output_type": "stream",
     "text": [
      "Nama: Dina \n",
      "Status: Mahasiswa \n",
      "Umur: 22\n"
     ]
    }
   ],
   "source": [
    "#Keyword Parameter\n",
    "def karyawan (nama, umur, status):\n",
    "    print (\"Nama:\", nama, \"\\nStatus:\", status, \"\\nUmur:\", umur)\n",
    "karyawan (status = \"Mahasiswa\", nama = \"Dina\", umur = \"22\")"
   ]
  },
  {
   "cell_type": "code",
   "execution_count": 27,
   "metadata": {},
   "outputs": [
    {
     "name": "stdout",
     "output_type": "stream",
     "text": [
      "22\n"
     ]
    }
   ],
   "source": [
    "#Dictionary\n",
    "users = {\"Nama\" : \"Dina\", \"Usia\" : \"22\"}\n",
    "print (users[\"Usia\"])"
   ]
  },
  {
   "cell_type": "code",
   "execution_count": 29,
   "metadata": {},
   "outputs": [
    {
     "name": "stdout",
     "output_type": "stream",
     "text": [
      "Dina\n",
      "Finda\n",
      "Balqis\n"
     ]
    }
   ],
   "source": [
    "# *args\n",
    "def contoh (*nama):\n",
    "    for x in nama:\n",
    "        print (x)\n",
    "contoh (\"Dina\", \"Finda\", \"Balqis\")"
   ]
  },
  {
   "cell_type": "code",
   "execution_count": 30,
   "metadata": {},
   "outputs": [
    {
     "name": "stdout",
     "output_type": "stream",
     "text": [
      "nama Dina\n",
      "usia 22\n",
      "jurusan matematika\n"
     ]
    }
   ],
   "source": [
    "# **kwargs\n",
    "def biodata (**data):\n",
    "    for key, value in data.items():\n",
    "        print (key, value, sep=\" \")\n",
    "biodata (nama = \"Dina\", usia = \"22\", jurusan = \"matematika\")"
   ]
  },
  {
   "cell_type": "code",
   "execution_count": null,
   "metadata": {},
   "outputs": [],
   "source": []
  }
 ],
 "metadata": {
  "kernelspec": {
   "display_name": "Python 3",
   "language": "python",
   "name": "python3"
  },
  "language_info": {
   "codemirror_mode": {
    "name": "ipython",
    "version": 3
   },
   "file_extension": ".py",
   "mimetype": "text/x-python",
   "name": "python",
   "nbconvert_exporter": "python",
   "pygments_lexer": "ipython3",
   "version": "3.9.0"
  }
 },
 "nbformat": 4,
 "nbformat_minor": 4
}
