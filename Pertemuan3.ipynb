{
 "cells": [
  {
   "cell_type": "markdown",
   "metadata": {},
   "source": [
    "## Break"
   ]
  },
  {
   "cell_type": "code",
   "execution_count": 1,
   "metadata": {},
   "outputs": [
    {
     "name": "stdout",
     "output_type": "stream",
     "text": [
      "1\n",
      "2\n",
      "3\n",
      "4\n",
      "5\n",
      "6\n",
      "7\n",
      "8\n",
      "9\n",
      "Angka 9 ditemukan\n"
     ]
    }
   ],
   "source": [
    "number = [1, 2, 3, 4, 5, 6, 7, 8, 9, 10]\n",
    "for num in number:\n",
    "    print (num)\n",
    "    if num == 9:\n",
    "        print (\"Angka 9 ditemukan\")\n",
    "        break"
   ]
  },
  {
   "cell_type": "markdown",
   "metadata": {},
   "source": [
    "## Continue"
   ]
  },
  {
   "cell_type": "code",
   "execution_count": 6,
   "metadata": {},
   "outputs": [
    {
     "name": "stdout",
     "output_type": "stream",
     "text": [
      "1\n",
      "2\n",
      "3\n",
      "Ada bilangn yang habis dibagi 3\n",
      "4\n",
      "5\n",
      "6\n",
      "Ada bilangn yang habis dibagi 3\n",
      "7\n",
      "8\n",
      "9\n",
      "Ada bilangn yang habis dibagi 3\n",
      "10\n"
     ]
    }
   ],
   "source": [
    "number_2 = [1, 2, 3, 4, 5, 6, 7, 8, 9, 10]\n",
    "for num_2 in number_2:\n",
    "    print (num_2)\n",
    "    if num_2 % 3 == 0: #kalo ketemu angka yang habis dibagi 3\n",
    "        print(\"Ada bilangn yang habis dibagi 3\")\n",
    "        continue\n",
    "        print (num_2)"
   ]
  },
  {
   "cell_type": "markdown",
   "metadata": {},
   "source": [
    "## Pass"
   ]
  },
  {
   "cell_type": "code",
   "execution_count": 8,
   "metadata": {},
   "outputs": [],
   "source": [
    "for x in range (1, 15):\n",
    "    pass\n",
    "if 9 < 10:\n",
    "    pass"
   ]
  },
  {
   "cell_type": "code",
   "execution_count": null,
   "metadata": {},
   "outputs": [],
   "source": []
  }
 ],
 "metadata": {
  "kernelspec": {
   "display_name": "Python 3",
   "language": "python",
   "name": "python3"
  },
  "language_info": {
   "codemirror_mode": {
    "name": "ipython",
    "version": 3
   },
   "file_extension": ".py",
   "mimetype": "text/x-python",
   "name": "python",
   "nbconvert_exporter": "python",
   "pygments_lexer": "ipython3",
   "version": "3.9.0"
  }
 },
 "nbformat": 4,
 "nbformat_minor": 4
}
