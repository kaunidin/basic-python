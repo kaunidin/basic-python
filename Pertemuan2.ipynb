{
 "cells": [
  {
   "cell_type": "code",
   "execution_count": 1,
   "metadata": {},
   "outputs": [],
   "source": [
    "#upper\n",
    "#lower\n",
    "\n",
    "#rstrip\n",
    "#lstrip\n",
    "#strip\n",
    "#lstrip\n",
    "\n",
    "#join\n",
    "#split\n",
    "#replace replace (kalimat yg mau diganti, kalimat yg diinginkan)"
   ]
  },
  {
   "cell_type": "markdown",
   "metadata": {},
   "source": [
    "## Operasi String"
   ]
  },
  {
   "cell_type": "code",
   "execution_count": 2,
   "metadata": {},
   "outputs": [
    {
     "name": "stdout",
     "output_type": "stream",
     "text": [
      "DINA\n"
     ]
    }
   ],
   "source": [
    "#upper\n",
    "nama = \"dina\"\n",
    "Nama = nama.upper ()\n",
    "print (Nama)"
   ]
  },
  {
   "cell_type": "code",
   "execution_count": 3,
   "metadata": {},
   "outputs": [
    {
     "name": "stdout",
     "output_type": "stream",
     "text": [
      "magdalena\n"
     ]
    }
   ],
   "source": [
    "#lower\n",
    "nama1 = \"MAGDALENA\"\n",
    "Nama1 = nama1.lower ()\n",
    "print (Nama1)"
   ]
  },
  {
   "cell_type": "code",
   "execution_count": 4,
   "metadata": {},
   "outputs": [
    {
     "name": "stdout",
     "output_type": "stream",
     "text": [
      "tri\n"
     ]
    }
   ],
   "source": [
    "nama2 = \"TRI\"\n",
    "print (nama2.lower())"
   ]
  },
  {
   "cell_type": "markdown",
   "metadata": {},
   "source": [
    "## Awalan dan Akhiran"
   ]
  },
  {
   "cell_type": "code",
   "execution_count": 5,
   "metadata": {},
   "outputs": [
    {
     "name": "stdout",
     "output_type": "stream",
     "text": [
      "Indonesia\n"
     ]
    }
   ],
   "source": [
    "#rstrip\n",
    "coba1 = \"Indonesia      \"\n",
    "print (coba1.rstrip())"
   ]
  },
  {
   "cell_type": "code",
   "execution_count": 6,
   "metadata": {},
   "outputs": [
    {
     "name": "stdout",
     "output_type": "stream",
     "text": [
      "    Indonesia\n",
      "Indonesia\n"
     ]
    }
   ],
   "source": [
    "#lstrip\n",
    "coba2 = \"    Indonesia\"\n",
    "print (coba2)\n",
    "print (coba2.lstrip())"
   ]
  },
  {
   "cell_type": "code",
   "execution_count": 7,
   "metadata": {},
   "outputs": [
    {
     "name": "stdout",
     "output_type": "stream",
     "text": [
      "    Indonesia     Merdeka!\n",
      "Indonesia Merdeka!\n"
     ]
    }
   ],
   "source": [
    "#strip = menghilangkan bagian tertentu\n",
    "coba3 = \"    Indonesia    \"\n",
    "coba4 = \" Merdeka!\"\n",
    "print (coba3+coba4)\n",
    "print (coba3.strip() + coba4)"
   ]
  },
  {
   "cell_type": "code",
   "execution_count": 8,
   "metadata": {},
   "outputs": [
    {
     "name": "stdout",
     "output_type": "stream",
     "text": [
      "Semuany\n"
     ]
    }
   ],
   "source": [
    "coba5 = \"HaloHaloHaloHaloHaloSemuanya\"\n",
    "print (coba5.strip (\"Halo\"))\n",
    "#kenapa huruf a di kata semuanya hilang?"
   ]
  },
  {
   "cell_type": "markdown",
   "metadata": {},
   "source": [
    "## Menggabungkan dan Memisahkan"
   ]
  },
  {
   "cell_type": "code",
   "execution_count": 9,
   "metadata": {},
   "outputs": [
    {
     "name": "stdout",
     "output_type": "stream",
     "text": [
      "Nama saya Dina\n"
     ]
    }
   ],
   "source": [
    "#join\n",
    "print (\" \".join([\"Nama\", \"saya\", \"Dina\"]))\n",
    "#menyelipkan \" \" dan menggabungkan \"Nama\", \"saya\", \"Dina\""
   ]
  },
  {
   "cell_type": "code",
   "execution_count": 10,
   "metadata": {},
   "outputs": [
    {
     "name": "stdout",
     "output_type": "stream",
     "text": [
      "['Nama saya Dina ', '']\n"
     ]
    }
   ],
   "source": [
    "#split\n",
    "print (\"Nama saya Dina hoii\".split(\"hoii\"))"
   ]
  },
  {
   "cell_type": "code",
   "execution_count": 11,
   "metadata": {},
   "outputs": [
    {
     "name": "stdout",
     "output_type": "stream",
     "text": [
      "['Nama saya ', ' Dina']\n"
     ]
    }
   ],
   "source": [
    "print (\"Nama saya - Dina\".split (\"-\"))"
   ]
  },
  {
   "cell_type": "code",
   "execution_count": 12,
   "metadata": {},
   "outputs": [
    {
     "name": "stdout",
     "output_type": "stream",
     "text": [
      "['', ' saya Dina']\n"
     ]
    }
   ],
   "source": [
    "coba7 = \"Nama saya Dina\"\n",
    "coba8 = coba7.split (\"Nama\")\n",
    "print (coba8)"
   ]
  },
  {
   "cell_type": "markdown",
   "metadata": {},
   "source": [
    "## Mengganti Elemen di String"
   ]
  },
  {
   "cell_type": "code",
   "execution_count": 13,
   "metadata": {},
   "outputs": [
    {
     "name": "stdout",
     "output_type": "stream",
     "text": [
      "Indonesia Tanah Airku\n"
     ]
    }
   ],
   "source": [
    "coba9 = \"Indonesia Negaraku\"\n",
    "print (coba9.replace (\"Negaraku\", \"Tanah Airku\"))"
   ]
  },
  {
   "cell_type": "markdown",
   "metadata": {},
   "source": [
    "## Lain-Lain"
   ]
  },
  {
   "cell_type": "code",
   "execution_count": 14,
   "metadata": {},
   "outputs": [
    {
     "name": "stdout",
     "output_type": "stream",
     "text": [
      "Dinagusti magdalena sianturi\n"
     ]
    }
   ],
   "source": [
    "nama5 = \"dinagusti magdalena sianturi\"\n",
    "print (nama5.capitalize())"
   ]
  },
  {
   "cell_type": "code",
   "execution_count": 15,
   "metadata": {},
   "outputs": [
    {
     "name": "stdout",
     "output_type": "stream",
     "text": [
      "Rober Downey Jr\n"
     ]
    }
   ],
   "source": [
    "nama6 = \"rober downey jr\"\n",
    "print (nama6.title())"
   ]
  },
  {
   "cell_type": "markdown",
   "metadata": {},
   "source": [
    "## Konversi Tipe Data"
   ]
  },
  {
   "cell_type": "code",
   "execution_count": 16,
   "metadata": {},
   "outputs": [
    {
     "name": "stdout",
     "output_type": "stream",
     "text": [
      "<class 'int'>\n"
     ]
    }
   ],
   "source": [
    "angka = 1\n",
    "print (type(angka))"
   ]
  },
  {
   "cell_type": "code",
   "execution_count": 17,
   "metadata": {},
   "outputs": [
    {
     "name": "stdout",
     "output_type": "stream",
     "text": [
      "<class 'str'>\n",
      "1\n"
     ]
    }
   ],
   "source": [
    "angka2 = str(angka)\n",
    "print (type(angka2))\n",
    "print (angka2)"
   ]
  },
  {
   "cell_type": "code",
   "execution_count": 18,
   "metadata": {},
   "outputs": [
    {
     "name": "stdout",
     "output_type": "stream",
     "text": [
      "<class 'str'>\n"
     ]
    }
   ],
   "source": [
    "kata1 = \"1\"\n",
    "print (type(kata1))"
   ]
  },
  {
   "cell_type": "code",
   "execution_count": 19,
   "metadata": {},
   "outputs": [
    {
     "name": "stdout",
     "output_type": "stream",
     "text": [
      "<class 'int'>\n",
      "1\n"
     ]
    }
   ],
   "source": [
    "kata2 = int(kata1)\n",
    "print (type(kata2))\n",
    "print (kata2)"
   ]
  },
  {
   "cell_type": "code",
   "execution_count": 20,
   "metadata": {},
   "outputs": [
    {
     "name": "stdout",
     "output_type": "stream",
     "text": [
      "<class 'float'>\n"
     ]
    }
   ],
   "source": [
    "angka3 = 1.5\n",
    "print (type(angka3))"
   ]
  },
  {
   "cell_type": "code",
   "execution_count": 21,
   "metadata": {},
   "outputs": [
    {
     "name": "stdout",
     "output_type": "stream",
     "text": [
      "1\n"
     ]
    }
   ],
   "source": [
    "angka4 = int(angka3)\n",
    "print (angka4)"
   ]
  },
  {
   "cell_type": "code",
   "execution_count": 22,
   "metadata": {},
   "outputs": [
    {
     "name": "stdout",
     "output_type": "stream",
     "text": [
      "8.0\n"
     ]
    }
   ],
   "source": [
    "angka5 = 8\n",
    "angka6 = float(angka5)\n",
    "print (angka6)"
   ]
  },
  {
   "cell_type": "markdown",
   "metadata": {},
   "source": [
    "## Cara Lain Untuk Print"
   ]
  },
  {
   "cell_type": "code",
   "execution_count": 23,
   "metadata": {},
   "outputs": [
    {
     "name": "stdout",
     "output_type": "stream",
     "text": [
      "Halo semuanya\n"
     ]
    }
   ],
   "source": [
    "print (\"Halo {}\".format(\"semuanya\"))"
   ]
  },
  {
   "cell_type": "code",
   "execution_count": 24,
   "metadata": {},
   "outputs": [
    {
     "name": "stdout",
     "output_type": "stream",
     "text": [
      "Aku cinta Indonesia\n"
     ]
    }
   ],
   "source": [
    "kata3 = \"Indonesia\"\n",
    "print (\"Aku cinta %s\" % kata3)"
   ]
  },
  {
   "cell_type": "code",
   "execution_count": 25,
   "metadata": {},
   "outputs": [
    {
     "name": "stdout",
     "output_type": "stream",
     "text": [
      "Berhitung mulai dari 1234\n"
     ]
    }
   ],
   "source": [
    "angka7 = 1234\n",
    "print (\"Berhitung mulai dari %d\" % angka7)"
   ]
  },
  {
   "cell_type": "markdown",
   "metadata": {},
   "source": [
    "## Input Data"
   ]
  },
  {
   "cell_type": "code",
   "execution_count": 26,
   "metadata": {},
   "outputs": [
    {
     "name": "stdout",
     "output_type": "stream",
     "text": [
      "Siapa nama kamu?Dina\n",
      "<class 'str'>\n"
     ]
    }
   ],
   "source": [
    "kata4 = input (\"Siapa nama kamu?\")\n",
    "print (type(kata4))"
   ]
  },
  {
   "cell_type": "code",
   "execution_count": 27,
   "metadata": {},
   "outputs": [
    {
     "name": "stdout",
     "output_type": "stream",
     "text": [
      "Masukkan angka: 3\n",
      "500\n"
     ]
    }
   ],
   "source": [
    "tambah = input (\"Masukkan angka: \")\n",
    "tambah1 = 200\n",
    "tambah2 = tambah1 + 300\n",
    "print (tambah2)"
   ]
  },
  {
   "cell_type": "code",
   "execution_count": 28,
   "metadata": {},
   "outputs": [
    {
     "name": "stdout",
     "output_type": "stream",
     "text": [
      "Masukkan angka: 200\n",
      "500\n"
     ]
    }
   ],
   "source": [
    "tambah3 = input (\"Masukkan angka: \")\n",
    "tambah4 = 200\n",
    "tambah5 = tambah4 + 300\n",
    "print (tambah5)"
   ]
  },
  {
   "cell_type": "code",
   "execution_count": 29,
   "metadata": {},
   "outputs": [
    {
     "name": "stdout",
     "output_type": "stream",
     "text": [
      "Masukkan angka: 314\n",
      "799\n"
     ]
    }
   ],
   "source": [
    "tambah6 = input (\"Masukkan angka: \")\n",
    "tambah7 = 499\n",
    "tambah8 = int(tambah7) + 300\n",
    "print (tambah8)"
   ]
  },
  {
   "cell_type": "markdown",
   "metadata": {},
   "source": [
    "## Else, If, Elif"
   ]
  },
  {
   "cell_type": "code",
   "execution_count": 30,
   "metadata": {},
   "outputs": [
    {
     "name": "stdout",
     "output_type": "stream",
     "text": [
      "True\n",
      "Benar x < y\n"
     ]
    }
   ],
   "source": [
    "x = 40\n",
    "y = 200\n",
    "z = x < y\n",
    "print (z)\n",
    "if z == True:\n",
    "    print (\"Benar x < y\")"
   ]
  },
  {
   "cell_type": "code",
   "execution_count": 31,
   "metadata": {},
   "outputs": [
    {
     "name": "stdout",
     "output_type": "stream",
     "text": [
      "False\n",
      "salah\n"
     ]
    }
   ],
   "source": [
    "a = 40\n",
    "b = a < 3\n",
    "print (b)\n",
    "if b == True:\n",
    "    print (\"Benar a<3\")\n",
    "else:\n",
    "    print (\"salah\")"
   ]
  },
  {
   "cell_type": "code",
   "execution_count": 32,
   "metadata": {},
   "outputs": [
    {
     "name": "stdout",
     "output_type": "stream",
     "text": [
      "Masukkan angka: 453\n",
      "4\n"
     ]
    }
   ],
   "source": [
    "masukin = int(input (\"Masukkan angka: \"))\n",
    "c = 4\n",
    "if masukin < c:\n",
    "    print (masukin)\n",
    "else:\n",
    "    print (c)"
   ]
  },
  {
   "cell_type": "code",
   "execution_count": 33,
   "metadata": {},
   "outputs": [
    {
     "name": "stdout",
     "output_type": "stream",
     "text": [
      "Masukkan nama Anda: Dina\n",
      "Pukul berapa Anda datang? 8\n",
      "Hallo Dina\n",
      "Anda datang tepat waktu, Dina!\n"
     ]
    }
   ],
   "source": [
    "namauser = input (\"Masukkan nama Anda: \")\n",
    "waktuuser = int(input(\"Pukul berapa Anda datang? \"))\n",
    "masuk = 8\n",
    "print (\"Hallo\", namauser)\n",
    "if waktuuser == masuk:\n",
    "    print (\"Anda datang tepat waktu, %s!\" % namauser)\n",
    "elif time < masuk:\n",
    "    print (\"Wah Anda rajin sekali, %s!\" % namauser)\n",
    "elif time > masuk:\n",
    "    print (\"Anda datang terlambat, %s!\" % namauser)"
   ]
  },
  {
   "cell_type": "code",
   "execution_count": 34,
   "metadata": {},
   "outputs": [
    {
     "name": "stdout",
     "output_type": "stream",
     "text": [
      "Nama Anda: Dina\n",
      "Jam masuk: 9\n",
      "Hallo Dina\n",
      "Anda terlambat, Dina!\n"
     ]
    }
   ],
   "source": [
    "name = input (\"Nama Anda: \")\n",
    "time = int(input(\"Jam masuk: \"))\n",
    "jam = 8\n",
    "print (\"Hallo\", name)\n",
    "if time == jam:\n",
    "    print (\"Anda tepat waktu, %s!\" % name)\n",
    "elif time < jam:\n",
    "    print (\"Anda rajin sekali, %s!\" % name)\n",
    "elif time > jam:\n",
    "    print (\"Anda terlambat, %s!\" % name)"
   ]
  },
  {
   "cell_type": "markdown",
   "metadata": {},
   "source": [
    "## Loop"
   ]
  },
  {
   "cell_type": "code",
   "execution_count": 35,
   "metadata": {},
   "outputs": [
    {
     "name": "stdout",
     "output_type": "stream",
     "text": [
      "Saya ingin makan ['Nasi', 'Kue', 'Permen']\n",
      "Saya ingin makan ['Nasi', 'Kue', 'Permen']\n",
      "Saya ingin makan ['Nasi', 'Kue', 'Permen']\n"
     ]
    }
   ],
   "source": [
    "foods = [\"Nasi\", \"Kue\", \"Permen\"]\n",
    "for elemen in foods:\n",
    "    print (\"Saya ingin makan %s\" % foods)"
   ]
  },
  {
   "cell_type": "code",
   "execution_count": 36,
   "metadata": {},
   "outputs": [
    {
     "name": "stdout",
     "output_type": "stream",
     "text": [
      "1\n",
      "2\n",
      "3\n",
      "4\n",
      "5\n",
      "6\n",
      "7\n",
      "8\n",
      "9\n",
      "10\n"
     ]
    }
   ],
   "source": [
    "contoh = 1\n",
    "while contoh <= 10:\n",
    "    print (contoh)\n",
    "    contoh +=1"
   ]
  },
  {
   "cell_type": "code",
   "execution_count": 39,
   "metadata": {},
   "outputs": [
    {
     "name": "stdout",
     "output_type": "stream",
     "text": [
      "Masukkan Angka: 5\n",
      "1\n",
      "2\n",
      "3\n",
      "4\n",
      "5\n",
      "Angka 5 ditemukan\n"
     ]
    }
   ],
   "source": [
    "angka8 = int(input(\"Masukkan Angka: \"))\n",
    "angka9 = [1, 2, 3, 4, 5, 6, 7, 8, 9, 10]\n",
    "for a in angka9:\n",
    "    print (a)\n",
    "    if a == angka8:\n",
    "        print (\"Angka %d ditemukan\" % angka8)\n",
    "        break"
   ]
  }
 ],
 "metadata": {
  "kernelspec": {
   "display_name": "Python 3",
   "language": "python",
   "name": "python3"
  },
  "language_info": {
   "codemirror_mode": {
    "name": "ipython",
    "version": 3
   },
   "file_extension": ".py",
   "mimetype": "text/x-python",
   "name": "python",
   "nbconvert_exporter": "python",
   "pygments_lexer": "ipython3",
   "version": "3.9.0"
  }
 },
 "nbformat": 4,
 "nbformat_minor": 4
}
