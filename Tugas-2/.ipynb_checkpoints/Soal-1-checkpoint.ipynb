{
 "cells": [
  {
   "cell_type": "code",
   "execution_count": 42,
   "metadata": {},
   "outputs": [
    {
     "name": "stdout",
     "output_type": "stream",
     "text": [
      "Selamat Datang!\n",
      "--Menu--\n",
      "1. Daftar Kontak\n",
      "2. Tambah Kontak\n",
      "3. Keluar\n",
      "Pilih Menu:1\n",
      "Daftar Kontak:\n",
      "   Nama Kontak: Farhan\n",
      "   No. Telepon: 082233445566\n",
      "\n",
      "   Nama Kontak: Ivan\n",
      "   No. Telepon: 082234345566\n",
      "\n",
      "   Nama Kontak: Finda\n",
      "   No. Telepon: 082112334455\n",
      "\n",
      "   Nama Kontak: Balqis\n",
      "   No. Telepon: 082011223344\n",
      "\n"
     ]
    }
   ],
   "source": [
    "print(\"Selamat Datang!\")\n",
    "print(\"--Menu--\")\n",
    "print(\"1. Daftar Kontak\")\n",
    "print(\"2. Tambah Kontak\")\n",
    "print(\"3. Keluar\")\n",
    "\n",
    "kontak = {\n",
    "        1: {\"Nama Kontak\": \"Farhan\", \"No. Telepon\": \"082233445566\\n\"},\n",
    "        2: {\"Nama Kontak\": \"Ivan\", \"No. Telepon\": \"082234345566\\n\"},\n",
    "        3: {\"Nama Kontak\": \"Finda\", \"No. Telepon\": \"082112334455\\n\"},\n",
    "        4: {\"Nama Kontak\": \"Balqis\", \"No. Telepon\": \"082011223344\\n\"},\n",
    "    }\n",
    "\n",
    "usinput = int((input(\"Pilih Menu:\")))\n",
    "\n",
    "if usinput == 1:\n",
    "    print(\"Daftar Kontak:\")\n",
    "    for key, value in kontak.items():\n",
    "            for key2, value2 in value.items():\n",
    "                print(f'{\" \" * 2} {key2}: {value2}')\n",
    "elif usinput == 2:\n",
    "    print(\"Silakan masukkan data kontak yang ingin ditambahkan\")\n",
    "    inputnama = input(\"Nama kontak: \")\n",
    "    inputno = input(\"No. Telepon:\")\n",
    "    print(\"Kontak berhasil ditambahkan\")\n",
    "elif usinput == 3:\n",
    "    print(\"Program selesai, sampai jumpa!\")\n",
    "else:\n",
    "    print(\"Menu tidak tersedia\")"
   ]
  },
  {
   "cell_type": "code",
   "execution_count": null,
   "metadata": {},
   "outputs": [],
   "source": []
  }
 ],
 "metadata": {
  "kernelspec": {
   "display_name": "Python 3",
   "language": "python",
   "name": "python3"
  },
  "language_info": {
   "codemirror_mode": {
    "name": "ipython",
    "version": 3
   },
   "file_extension": ".py",
   "mimetype": "text/x-python",
   "name": "python",
   "nbconvert_exporter": "python",
   "pygments_lexer": "ipython3",
   "version": "3.9.0"
  }
 },
 "nbformat": 4,
 "nbformat_minor": 4
}
