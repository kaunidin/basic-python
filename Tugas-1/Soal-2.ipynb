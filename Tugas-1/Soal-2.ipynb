{
 "cells": [
  {
   "cell_type": "code",
   "execution_count": 10,
   "metadata": {},
   "outputs": [
    {
     "name": "stdout",
     "output_type": "stream",
     "text": [
      "Masukkan jari-jari lingkaran: 10\n",
      "Luas lingkaran dengan jari-jari 10 cm adalah 314.29 cm²\n"
     ]
    }
   ],
   "source": [
    "jari = float(input (\"Masukkan jari-jari lingkaran: \"))\n",
    "luas = float(22/7*jari*jari)\n",
    "print (\"Luas lingkaran dengan jari-jari %d cm\" % jari, end=\" \")\n",
    "print (\"adalah %.2f cm\\u00b2\" % luas)"
   ]
  }
 ],
 "metadata": {
  "kernelspec": {
   "display_name": "Python 3",
   "language": "python",
   "name": "python3"
  },
  "language_info": {
   "codemirror_mode": {
    "name": "ipython",
    "version": 3
   },
   "file_extension": ".py",
   "mimetype": "text/x-python",
   "name": "python",
   "nbconvert_exporter": "python",
   "pygments_lexer": "ipython3",
   "version": "3.9.0"
  }
 },
 "nbformat": 4,
 "nbformat_minor": 4
}
