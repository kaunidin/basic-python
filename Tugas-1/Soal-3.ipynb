{
 "cells": [
  {
   "cell_type": "code",
   "execution_count": 6,
   "metadata": {},
   "outputs": [
    {
     "name": "stdout",
     "output_type": "stream",
     "text": [
      "Masukkan nilai ujian teori Anda: 60\n",
      "Masukkan nilai ujian praktek Anda: 79\n",
      "Anda harus mengulang ujian teori\n"
     ]
    }
   ],
   "source": [
    "teori = int(input(\"Masukkan nilai ujian teori Anda: \"))\n",
    "praktek = float(input(\"Masukkan nilai ujian praktek Anda: \"))\n",
    "if teori>=70:\n",
    "    if praktek>70:\n",
    "        print (\"Selamat, Anda lulus!\")\n",
    "    elif praktek<70.0:\n",
    "        print (\"Anda harus mengulang ujian praktek\")\n",
    "elif teori<70:\n",
    "    if praktek>=70.0:\n",
    "        print (\"Anda harus mengulang ujian teori\")\n",
    "else:\n",
    "    print (\"Anda harus mengulang ujian teori dan praktek\")"
   ]
  }
 ],
 "metadata": {
  "kernelspec": {
   "display_name": "Python 3",
   "language": "python",
   "name": "python3"
  },
  "language_info": {
   "codemirror_mode": {
    "name": "ipython",
    "version": 3
   },
   "file_extension": ".py",
   "mimetype": "text/x-python",
   "name": "python",
   "nbconvert_exporter": "python",
   "pygments_lexer": "ipython3",
   "version": "3.9.0"
  }
 },
 "nbformat": 4,
 "nbformat_minor": 4
}
