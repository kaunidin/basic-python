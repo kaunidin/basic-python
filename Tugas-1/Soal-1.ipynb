{
 "cells": [
  {
   "cell_type": "code",
   "execution_count": 4,
   "metadata": {},
   "outputs": [
    {
     "name": "stdout",
     "output_type": "stream",
     "text": [
      "Masukkan nama Anda:dina\n",
      "Masukkan umur Anda:22\n",
      "Masukkan tinggi badan Anda:165\n",
      "Nama saya dina, umur saya 22 tahun, dan tinggi saya 165 cm.\n"
     ]
    }
   ],
   "source": [
    "nama = input(\"Masukkan nama Anda:\")\n",
    "umur = int(input(\"Masukkan umur Anda:\"))\n",
    "tinggi = float(input(\"Masukkan tinggi badan Anda:\"))\n",
    "print (\"Nama saya %s,\" % nama, end=\" \")\n",
    "print (\"umur saya %d tahun,\" % umur, end=\" \")\n",
    "print (\"dan tinggi saya %d cm.\" % tinggi)"
   ]
  }
 ],
 "metadata": {
  "kernelspec": {
   "display_name": "Python 3",
   "language": "python",
   "name": "python3"
  },
  "language_info": {
   "codemirror_mode": {
    "name": "ipython",
    "version": 3
   },
   "file_extension": ".py",
   "mimetype": "text/x-python",
   "name": "python",
   "nbconvert_exporter": "python",
   "pygments_lexer": "ipython3",
   "version": "3.9.0"
  }
 },
 "nbformat": 4,
 "nbformat_minor": 4
}
