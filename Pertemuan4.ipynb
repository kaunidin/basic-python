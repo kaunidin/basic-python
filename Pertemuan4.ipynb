{
 "cells": [
  {
   "cell_type": "markdown",
   "metadata": {},
   "source": [
    "## Penggabungan Kondisi"
   ]
  },
  {
   "cell_type": "code",
   "execution_count": 3,
   "metadata": {},
   "outputs": [
    {
     "name": "stdout",
     "output_type": "stream",
     "text": [
      "Pukul berapa sekarang?3\n",
      "Selamat malam!\n"
     ]
    }
   ],
   "source": [
    "# input jam\n",
    "jam = int(input(\"Pukul berapa sekarang?\"))\n",
    "\n",
    "#kondisi\n",
    "if jam >= 5 and jam <= 11:\n",
    "    print (\"Selamat pagi!\")\n",
    "elif jam > 11 and jam <= 15:\n",
    "    print (\"Selamat siang!\")\n",
    "elif jam > 15 and jam <= 18:\n",
    "    print (\"Selamat sore!\")\n",
    "else:\n",
    "    print (\"Selamat malam!\")"
   ]
  },
  {
   "cell_type": "code",
   "execution_count": 5,
   "metadata": {},
   "outputs": [
    {
     "name": "stdout",
     "output_type": "stream",
     "text": [
      "Halo!\n"
     ]
    }
   ],
   "source": [
    "# Shorthand AND\n",
    "angka = 5\n",
    "if 4 < angka < 6:\n",
    "    print (\"Halo!\")\n",
    "else:\n",
    "    print (\"Error\")"
   ]
  },
  {
   "cell_type": "markdown",
   "metadata": {},
   "source": [
    "## Opreator OR"
   ]
  },
  {
   "cell_type": "code",
   "execution_count": 6,
   "metadata": {},
   "outputs": [
    {
     "name": "stdout",
     "output_type": "stream",
     "text": [
      "benar\n"
     ]
    }
   ],
   "source": [
    "if 6<7 or 8<9:\n",
    "    print (\"benar\")"
   ]
  },
  {
   "cell_type": "code",
   "execution_count": 7,
   "metadata": {},
   "outputs": [
    {
     "name": "stdout",
     "output_type": "stream",
     "text": [
      "salah satunya benar\n"
     ]
    }
   ],
   "source": [
    "if 6<7 or 8>9:\n",
    "    print (\"salah satunya benar\")"
   ]
  },
  {
   "cell_type": "code",
   "execution_count": 11,
   "metadata": {},
   "outputs": [
    {
     "name": "stdout",
     "output_type": "stream",
     "text": [
      "benar\n"
     ]
    }
   ],
   "source": [
    "angka = 3\n",
    "if not angka == 4:\n",
    "    print (\"benar\")"
   ]
  },
  {
   "cell_type": "code",
   "execution_count": 12,
   "metadata": {},
   "outputs": [
    {
     "name": "stdout",
     "output_type": "stream",
     "text": [
      "benar\n"
     ]
    }
   ],
   "source": [
    "angka = 3\n",
    "if angka != 4:\n",
    "    print (\"benar\")"
   ]
  },
  {
   "cell_type": "code",
   "execution_count": 13,
   "metadata": {},
   "outputs": [
    {
     "name": "stdout",
     "output_type": "stream",
     "text": [
      "C is in the list\n"
     ]
    }
   ],
   "source": [
    "contohlist = [\"A\", \"B\", \"C\", \"D\"]\n",
    "if \"C\" not in contohlist:\n",
    "    print (\"C not in the list\")\n",
    "else:\n",
    "    print (\"C is in the list\")"
   ]
  },
  {
   "cell_type": "code",
   "execution_count": 18,
   "metadata": {},
   "outputs": [
    {
     "name": "stdout",
     "output_type": "stream",
     "text": [
      "Masukkan angka:31\n",
      "31 tidak ada di dalam list\n"
     ]
    }
   ],
   "source": [
    "masukkan = int(input(\"Masukkan angka:\"))\n",
    "list_2 = [1, 2, 3, 4, 5, 6, 7, 8, 9, 10]\n",
    "if masukkan not in list_2:\n",
    "    print(masukkan, \"tidak ada di dalam list\")\n",
    "else:\n",
    "    print(masukkan, \"ada di dalam list\")"
   ]
  },
  {
   "cell_type": "code",
   "execution_count": 20,
   "metadata": {},
   "outputs": [
    {
     "name": "stdout",
     "output_type": "stream",
     "text": [
      "8 adalah integer\n"
     ]
    }
   ],
   "source": [
    "# is\n",
    "angka_2 = 8\n",
    "if (type(angka_2) is int):\n",
    "    print (angka_2, \"adalah integer\")\n",
    "else:\n",
    "    print (angka_2, \"bukanah integer\")"
   ]
  },
  {
   "cell_type": "markdown",
   "metadata": {},
   "source": [
    "## Random"
   ]
  },
  {
   "cell_type": "code",
   "execution_count": 28,
   "metadata": {},
   "outputs": [
    {
     "name": "stdout",
     "output_type": "stream",
     "text": [
      "Random integer from 0 to 9\n",
      "Random integer:  5\n",
      "Random integer from 10 to 100\n",
      "Random integer:  67\n"
     ]
    }
   ],
   "source": [
    "import random\n",
    "\n",
    "print(\"Random integer from 0 to 9\")\n",
    "num1 = random.randint(0, 9)\n",
    "print(\"Random integer: \", num1)\n",
    "\n",
    "print(\"Random integer from 10 to 100\")\n",
    "num2 = random.randint(10, 100)\n",
    "print(\"Random integer: \", num2)"
   ]
  },
  {
   "cell_type": "code",
   "execution_count": 58,
   "metadata": {},
   "outputs": [
    {
     "name": "stdout",
     "output_type": "stream",
     "text": [
      "33\n"
     ]
    }
   ],
   "source": [
    "import random\n",
    "from random import randint\n",
    "print (randint(3, 142))"
   ]
  },
  {
   "cell_type": "code",
   "execution_count": 65,
   "metadata": {},
   "outputs": [
    {
     "name": "stdout",
     "output_type": "stream",
     "text": [
      "45\n"
     ]
    }
   ],
   "source": [
    "#random.randrange(stop)\n",
    "#random.randrange(start, stop, [step])\n",
    "\n",
    "import random\n",
    "\n",
    "from random import randrange\n",
    "print (randrange(1, 100, 2))\n"
   ]
  },
  {
   "cell_type": "code",
   "execution_count": 59,
   "metadata": {},
   "outputs": [
    {
     "name": "stdout",
     "output_type": "stream",
     "text": [
      "Salam, Dina!\n"
     ]
    }
   ],
   "source": [
    "import random\n",
    "greetings = [\"Hai\", \"Halo\", \"Hola\", \"Salam\"]\n",
    "\n",
    "value = random.choice(greetings)\n",
    "print (value + \", Dina!\")"
   ]
  },
  {
   "cell_type": "code",
   "execution_count": 67,
   "metadata": {},
   "outputs": [
    {
     "name": "stdout",
     "output_type": "stream",
     "text": [
      "['Red', 'Black', 'Black', 'Red', 'Red', 'Black', 'Black', 'Black', 'Black', 'Red', 'White', 'Black', 'Blue']\n"
     ]
    }
   ],
   "source": [
    "import random\n",
    "colors = [\"Black\", \"White\", \"Blue\", \"Red\"]\n",
    "result = random.choices(colors, weights = [3, 4, 2, 7], k = 13)\n",
    "print (result)"
   ]
  },
  {
   "cell_type": "markdown",
   "metadata": {},
   "source": [
    "## List"
   ]
  },
  {
   "cell_type": "code",
   "execution_count": 5,
   "metadata": {},
   "outputs": [
    {
     "name": "stdout",
     "output_type": "stream",
     "text": [
      "Bubur\n",
      "Bakmi\n",
      "Bubur\n",
      "Bakso\n",
      "['Bakso', 'Nasi Goreng', 'Gado-Gado']\n"
     ]
    }
   ],
   "source": [
    "list_satu = [\"Bakso\", \"Nasi Goreng\", \"Gado-Gado\", \"Bubur\", \"Bakmi\"]\n",
    "print (list_satu[3])\n",
    "print (list_satu[-1])\n",
    "print (list_satu[-2])\n",
    "print (list_satu[-0])\n",
    "print (list_satu[:3])"
   ]
  },
  {
   "cell_type": "code",
   "execution_count": 13,
   "metadata": {},
   "outputs": [
    {
     "name": "stdout",
     "output_type": "stream",
     "text": [
      "Ramen\n"
     ]
    }
   ],
   "source": [
    "#Mengedit Value\n",
    "list_satu = [\"Bakso\", \"Nasi Goreng\", \"Gado-Gado\", \"Bubur\", \"Bakmi\"]\n",
    "list_satu[2] = \"Ramen\"\n",
    "print (list_satu[2])"
   ]
  },
  {
   "cell_type": "code",
   "execution_count": 17,
   "metadata": {},
   "outputs": [
    {
     "name": "stdout",
     "output_type": "stream",
     "text": [
      "['Bakso', 'Nasi Goreng', 'Gado-Gado', 'Bubur', 'Bakmi', 'Mi Ayam']\n"
     ]
    }
   ],
   "source": [
    "#Menambah Value\n",
    "list_satu = [\"Bakso\", \"Nasi Goreng\", \"Gado-Gado\", \"Bubur\", \"Bakmi\"]\n",
    "list_satu.append (\"Mi Ayam\")\n",
    "print (list_satu)"
   ]
  },
  {
   "cell_type": "code",
   "execution_count": 15,
   "metadata": {},
   "outputs": [
    {
     "name": "stdout",
     "output_type": "stream",
     "text": [
      "['Bakso', 'Nasi Goreng', 'Bubur', 'Bakmi']\n"
     ]
    }
   ],
   "source": [
    "list_satu = [\"Bakso\", \"Nasi Goreng\", \"Gado-Gado\", \"Bubur\", \"Bakmi\"]\n",
    "del list_satu [2]\n",
    "print (list_satu)"
   ]
  },
  {
   "cell_type": "code",
   "execution_count": 29,
   "metadata": {},
   "outputs": [
    {
     "name": "stdout",
     "output_type": "stream",
     "text": [
      "Saya suka makan Bakso\n",
      "Saya suka makan Nasi Goreng\n",
      "Saya suka makan Ramen\n",
      "Saya suka makan Bubur\n",
      "Saya suka makan Bakmi\n"
     ]
    }
   ],
   "source": [
    "#Looping List\n",
    "for makanan in list_satu:\n",
    "    print (\"Saya suka makan\", makanan, sep=\" \")"
   ]
  },
  {
   "cell_type": "markdown",
   "metadata": {},
   "source": [
    "## Dictionary"
   ]
  },
  {
   "cell_type": "code",
   "execution_count": 19,
   "metadata": {},
   "outputs": [
    {
     "name": "stdout",
     "output_type": "stream",
     "text": [
      "{'nama': 'dina', 'umur': '22', 'profesi': 'mahasiswa'}\n"
     ]
    }
   ],
   "source": [
    "bio = {\"nama\":\"dina\", \"umur\" : \"22\", \"profesi\" : \"mahasiswa\"}\n",
    "print (bio)"
   ]
  },
  {
   "cell_type": "code",
   "execution_count": 20,
   "metadata": {},
   "outputs": [
    {
     "name": "stdout",
     "output_type": "stream",
     "text": [
      "dina\n",
      "22\n",
      "mahasiswa\n"
     ]
    }
   ],
   "source": [
    "print (bio[\"nama\"])\n",
    "print (bio[\"umur\"])\n",
    "print (bio[\"profesi\"])"
   ]
  },
  {
   "cell_type": "code",
   "execution_count": 21,
   "metadata": {},
   "outputs": [
    {
     "name": "stdout",
     "output_type": "stream",
     "text": [
      "nama: dina\n",
      "umur: 22\n",
      "profesi: mahasiswa\n"
     ]
    }
   ],
   "source": [
    "for key, value in bio.items():\n",
    "    print(key, value, sep=': ')"
   ]
  },
  {
   "cell_type": "code",
   "execution_count": 22,
   "metadata": {},
   "outputs": [
    {
     "name": "stdout",
     "output_type": "stream",
     "text": [
      "{1: {'Nama': 'Budiman', 'Umur': '20', 'Profesi': 'DevOps'}, 2: {'Nama': 'Abraham', 'Umur': '30', 'Profesi': 'UI/UX Designer'}, 3: {'Nama': 'Isaac', 'Umur': '40', 'Profesi': 'Front-End Dev'}}\n",
      "{'Nama': 'Budiman', 'Umur': '20', 'Profesi': 'DevOps'}\n",
      "{'Nama': 'Abraham', 'Umur': '30', 'Profesi': 'UI/UX Designer'}\n",
      "{'Nama': 'Isaac', 'Umur': '40', 'Profesi': 'Front-End Dev'}\n"
     ]
    }
   ],
   "source": [
    "# dictionary bercabang\n",
    "pelanggan = {\n",
    "    1: {\n",
    "        'Nama': 'Budiman', 'Umur': '20', 'Profesi': 'DevOps'\n",
    "    },\n",
    "    2: {\n",
    "        'Nama': 'Abraham', 'Umur': '30', 'Profesi': 'UI/UX Designer'\n",
    "    },\n",
    "    3: {\n",
    "        'Nama': 'Isaac', 'Umur': '40', 'Profesi': 'Front-End Dev'\n",
    "    }\n",
    "}\n",
    "print(pelanggan)\n",
    "print(pelanggan[1])\n",
    "print(pelanggan[2])\n",
    "print(pelanggan[3])"
   ]
  },
  {
   "cell_type": "code",
   "execution_count": 23,
   "metadata": {},
   "outputs": [
    {
     "name": "stdout",
     "output_type": "stream",
     "text": [
      "1: {'Nama': 'Budiman', 'Umur': '20', 'Profesi': 'DevOps'}\n",
      "2: {'Nama': 'Abraham', 'Umur': '30', 'Profesi': 'UI/UX Designer'}\n",
      "3: {'Nama': 'Isaac', 'Umur': '40', 'Profesi': 'Front-End Dev'}\n"
     ]
    }
   ],
   "source": [
    "# looping \n",
    "for key, value in pelanggan.items():\n",
    "    print(key, value, sep=': ')"
   ]
  },
  {
   "cell_type": "code",
   "execution_count": 24,
   "metadata": {},
   "outputs": [
    {
     "name": "stdout",
     "output_type": "stream",
     "text": [
      "Pelanggan ke- 1\n",
      "    Nama: Budiman\n",
      "    Umur: 20\n",
      "    Profesi: DevOps\n",
      "Pelanggan ke- 2\n",
      "    Nama: Abraham\n",
      "    Umur: 30\n",
      "    Profesi: UI/UX Designer\n",
      "Pelanggan ke- 3\n",
      "    Nama: Isaac\n",
      "    Umur: 40\n",
      "    Profesi: Front-End Dev\n"
     ]
    }
   ],
   "source": [
    "# looping \n",
    "for key, value in pelanggan.items():\n",
    "    print('Pelanggan ke-', key)\n",
    "    # looping\n",
    "    for key2, value2 in value.items():\n",
    "        print(f'{\" \" * 3} {key2}: {value2}')"
   ]
  },
  {
   "cell_type": "code",
   "execution_count": 25,
   "metadata": {},
   "outputs": [
    {
     "name": "stdout",
     "output_type": "stream",
     "text": [
      "Pelanggan ke- 1\n",
      "    Nama: Budiman\n",
      "    Umur: 20\n",
      "    Profesi: DevOps\n",
      "Pelanggan ke- 2\n",
      "    Nama: Abraham\n",
      "    Umur: 30\n",
      "    Profesi: UI/UX Designer\n",
      "Pelanggan ke- 3\n",
      "    Nama: Isaac\n",
      "    Umur: 40\n",
      "    Profesi: Front-End Dev\n"
     ]
    }
   ],
   "source": [
    "# looping \n",
    "for key, value in pelanggan.items():\n",
    "    print('Pelanggan ke-', key)\n",
    "    # looping\n",
    "    for key2 in value:\n",
    "        print(f'{\" \" * 3} {key2}: {value[key2]}')"
   ]
  },
  {
   "cell_type": "markdown",
   "metadata": {},
   "source": [
    "## Tuple"
   ]
  },
  {
   "cell_type": "code",
   "execution_count": 36,
   "metadata": {},
   "outputs": [
    {
     "name": "stdout",
     "output_type": "stream",
     "text": [
      "('Ikan', 'Beruang', 'Badak')\n",
      "<class 'tuple'>\n"
     ]
    }
   ],
   "source": [
    "tup = ('Ikan', 'Beruang', 'Badak')\n",
    "print(tup)\n",
    "print(type(tup))"
   ]
  },
  {
   "cell_type": "code",
   "execution_count": 44,
   "metadata": {},
   "outputs": [
    {
     "ename": "AttributeError",
     "evalue": "'tuple' object has no attribute 'add'",
     "output_type": "error",
     "traceback": [
      "\u001b[1;31m---------------------------------------------------------------------------\u001b[0m",
      "\u001b[1;31mAttributeError\u001b[0m                            Traceback (most recent call last)",
      "\u001b[1;32m<ipython-input-44-3294bd017ba8>\u001b[0m in \u001b[0;36m<module>\u001b[1;34m\u001b[0m\n\u001b[0;32m      2\u001b[0m \u001b[1;31m# yang berikut ini akan error\u001b[0m\u001b[1;33m\u001b[0m\u001b[1;33m\u001b[0m\u001b[1;33m\u001b[0m\u001b[0m\n\u001b[0;32m      3\u001b[0m \u001b[0mtup\u001b[0m \u001b[1;33m=\u001b[0m \u001b[1;33m(\u001b[0m\u001b[1;34m'Ikan'\u001b[0m\u001b[1;33m,\u001b[0m \u001b[1;34m'Beruang'\u001b[0m\u001b[1;33m,\u001b[0m \u001b[1;34m'Badak'\u001b[0m\u001b[1;33m)\u001b[0m\u001b[1;33m\u001b[0m\u001b[1;33m\u001b[0m\u001b[0m\n\u001b[1;32m----> 4\u001b[1;33m \u001b[0mtup\u001b[0m\u001b[1;33m.\u001b[0m\u001b[0madd\u001b[0m\u001b[1;33m(\u001b[0m\u001b[1;34m'Burung'\u001b[0m\u001b[1;33m)\u001b[0m\u001b[1;33m\u001b[0m\u001b[1;33m\u001b[0m\u001b[0m\n\u001b[0m",
      "\u001b[1;31mAttributeError\u001b[0m: 'tuple' object has no attribute 'add'"
     ]
    }
   ],
   "source": [
    "# immutable type, tidak bisa menambah item\n",
    "# yang berikut ini akan error\n",
    "tup.add('Burung')"
   ]
  },
  {
   "cell_type": "code",
   "execution_count": 38,
   "metadata": {},
   "outputs": [
    {
     "ename": "TypeError",
     "evalue": "'tuple' object doesn't support item deletion",
     "output_type": "error",
     "traceback": [
      "\u001b[1;31m---------------------------------------------------------------------------\u001b[0m",
      "\u001b[1;31mTypeError\u001b[0m                                 Traceback (most recent call last)",
      "\u001b[1;32m<ipython-input-38-9603277b85b7>\u001b[0m in \u001b[0;36m<module>\u001b[1;34m\u001b[0m\n\u001b[0;32m      1\u001b[0m \u001b[1;31m# tidak bisa hapus item elemen data tuple juga\u001b[0m\u001b[1;33m\u001b[0m\u001b[1;33m\u001b[0m\u001b[1;33m\u001b[0m\u001b[0m\n\u001b[1;32m----> 2\u001b[1;33m \u001b[1;32mdel\u001b[0m \u001b[0mtup\u001b[0m\u001b[1;33m[\u001b[0m\u001b[1;36m0\u001b[0m\u001b[1;33m]\u001b[0m\u001b[1;33m\u001b[0m\u001b[1;33m\u001b[0m\u001b[0m\n\u001b[0m",
      "\u001b[1;31mTypeError\u001b[0m: 'tuple' object doesn't support item deletion"
     ]
    }
   ],
   "source": [
    "# tidak bisa hapus item elemen data tuple juga\n",
    "del tup[0]"
   ]
  },
  {
   "cell_type": "markdown",
   "metadata": {},
   "source": [
    "## Set"
   ]
  },
  {
   "cell_type": "code",
   "execution_count": 39,
   "metadata": {},
   "outputs": [
    {
     "name": "stdout",
     "output_type": "stream",
     "text": [
      "{'London', 'Yereva', 'Tallin', 'Berlin', 'Kairo'} <class 'set'>\n"
     ]
    }
   ],
   "source": [
    "set_satu = {'Berlin', 'Kairo', 'Tallin', 'London', 'Yereva'}\n",
    "print(set_satu, type(set_satu))"
   ]
  },
  {
   "cell_type": "code",
   "execution_count": 40,
   "metadata": {},
   "outputs": [
    {
     "name": "stdout",
     "output_type": "stream",
     "text": [
      "London\n",
      "Yereva\n",
      "Tallin\n",
      "Berlin\n",
      "Kairo\n"
     ]
    }
   ],
   "source": [
    "for item in set_satu:\n",
    "    print(item)"
   ]
  },
  {
   "cell_type": "code",
   "execution_count": 41,
   "metadata": {},
   "outputs": [
    {
     "name": "stdout",
     "output_type": "stream",
     "text": [
      "{1, 2, 3, 4, 5, 6, 7, 8, 9, 10}\n"
     ]
    }
   ],
   "source": [
    "# set akan mengeliminasi semua item data yang sama \n",
    "set_angka = {1, 2, 3, 4, 5, 6, 7, 8, 1, 2, 3, 4, 5, 6, 7, 8, 9, 10}\n",
    "print(set_angka)"
   ]
  },
  {
   "cell_type": "code",
   "execution_count": 42,
   "metadata": {},
   "outputs": [
    {
     "name": "stdout",
     "output_type": "stream",
     "text": [
      "{'London', 'Yereva', 'Tallin', 'Berlin', 'Kairo'}\n"
     ]
    }
   ],
   "source": [
    "set_kota = {'Berlin', 'Kairo', 'Tallin', 'London', 'Yereva', 'Berlin', 'Tallin'}\n",
    "print(set_kota)"
   ]
  },
  {
   "cell_type": "code",
   "execution_count": 43,
   "metadata": {},
   "outputs": [
    {
     "name": "stdout",
     "output_type": "stream",
     "text": [
      "{5, 6, 7, 8, 9, 10}\n",
      "{1, 2, 3, 4, 5, 6, 7, 8, 9, 10, 11, 12, 13, 14, 15, 16, 17, 18, 19, 20}\n"
     ]
    }
   ],
   "source": [
    "set_angka1 = {1,2,3,4,5,6,7,8,9,10}\n",
    "set_angka2 = {5,6,7,8,9,10,11,12,13,14,15,16,17,18,19,20}\n",
    "print(set_angka1 & set_angka2) # irisan (intersection)\n",
    "print(set_angka1 | set_angka2) # gabungan (union)"
   ]
  }
 ],
 "metadata": {
  "kernelspec": {
   "display_name": "Python 3",
   "language": "python",
   "name": "python3"
  },
  "language_info": {
   "codemirror_mode": {
    "name": "ipython",
    "version": 3
   },
   "file_extension": ".py",
   "mimetype": "text/x-python",
   "name": "python",
   "nbconvert_exporter": "python",
   "pygments_lexer": "ipython3",
   "version": "3.9.0"
  }
 },
 "nbformat": 4,
 "nbformat_minor": 4
}
